{
 "cells": [
  {
   "cell_type": "code",
   "execution_count": 27,
   "id": "a4bcf5ea",
   "metadata": {},
   "outputs": [],
   "source": [
    "import pandas as pd\n",
    "import numpy as np\n",
    "import matplotlib.pyplot as plt\n",
    "import matplotlib as matplot\n",
    "import seaborn as sns\n",
    "from sklearn.model_selection import train_test_split\n",
    "%matplotlib inline"
   ]
  },
  {
   "cell_type": "markdown",
   "id": "542af265",
   "metadata": {},
   "source": [
    "# reading data from the Dataset"
   ]
  },
  {
   "cell_type": "code",
   "execution_count": 3,
   "id": "3ed2dffd",
   "metadata": {},
   "outputs": [
    {
     "name": "stdout",
     "output_type": "stream",
     "text": [
      "<class 'pandas.core.frame.DataFrame'>\n",
      "RangeIndex: 362447 entries, 0 to 362446\n",
      "Columns: 102 entries, Date to Season\n",
      "dtypes: float64(33), int64(31), object(38)\n",
      "memory usage: 282.1+ MB\n"
     ]
    }
   ],
   "source": [
    "NFL=pd.read_csv(\"data.csv\",low_memory=False)\n",
    "NFL.info()"
   ]
  },
  {
   "cell_type": "markdown",
   "id": "b4ab52b7",
   "metadata": {},
   "source": [
    "# Data Cleaning"
   ]
  },
  {
   "cell_type": "code",
   "execution_count": 4,
   "id": "e4fa8621",
   "metadata": {},
   "outputs": [
    {
     "data": {
      "text/plain": [
       "Date        False\n",
       "GameID      False\n",
       "Drive       False\n",
       "qtr         False\n",
       "down         True\n",
       "            ...  \n",
       "Win_Prob     True\n",
       "WPA          True\n",
       "airWPA       True\n",
       "yacWPA       True\n",
       "Season      False\n",
       "Length: 102, dtype: bool"
      ]
     },
     "execution_count": 4,
     "metadata": {},
     "output_type": "execute_result"
    }
   ],
   "source": [
    "NFL.isnull().any()"
   ]
  },
  {
   "cell_type": "code",
   "execution_count": 5,
   "id": "8c4e5683",
   "metadata": {},
   "outputs": [
    {
     "data": {
      "text/html": [
       "<div>\n",
       "<style scoped>\n",
       "    .dataframe tbody tr th:only-of-type {\n",
       "        vertical-align: middle;\n",
       "    }\n",
       "\n",
       "    .dataframe tbody tr th {\n",
       "        vertical-align: top;\n",
       "    }\n",
       "\n",
       "    .dataframe thead th {\n",
       "        text-align: right;\n",
       "    }\n",
       "</style>\n",
       "<table border=\"1\" class=\"dataframe\">\n",
       "  <thead>\n",
       "    <tr style=\"text-align: right;\">\n",
       "      <th></th>\n",
       "      <th>Date</th>\n",
       "      <th>GameID</th>\n",
       "      <th>Drive</th>\n",
       "      <th>qtr</th>\n",
       "      <th>down</th>\n",
       "      <th>time</th>\n",
       "      <th>TimeUnder</th>\n",
       "      <th>TimeSecs</th>\n",
       "      <th>PlayTimeDiff</th>\n",
       "      <th>SideofField</th>\n",
       "      <th>...</th>\n",
       "      <th>yacEPA</th>\n",
       "      <th>Home_WP_pre</th>\n",
       "      <th>Away_WP_pre</th>\n",
       "      <th>Home_WP_post</th>\n",
       "      <th>Away_WP_post</th>\n",
       "      <th>Win_Prob</th>\n",
       "      <th>WPA</th>\n",
       "      <th>airWPA</th>\n",
       "      <th>yacWPA</th>\n",
       "      <th>Season</th>\n",
       "    </tr>\n",
       "  </thead>\n",
       "  <tbody>\n",
       "    <tr>\n",
       "      <th>0</th>\n",
       "      <td>2009-09-10</td>\n",
       "      <td>2009091000</td>\n",
       "      <td>1</td>\n",
       "      <td>1</td>\n",
       "      <td>NaN</td>\n",
       "      <td>15:00</td>\n",
       "      <td>15</td>\n",
       "      <td>3600.0</td>\n",
       "      <td>0.0</td>\n",
       "      <td>TEN</td>\n",
       "      <td>...</td>\n",
       "      <td>NaN</td>\n",
       "      <td>0.485675</td>\n",
       "      <td>0.514325</td>\n",
       "      <td>0.546433</td>\n",
       "      <td>0.453567</td>\n",
       "      <td>0.485675</td>\n",
       "      <td>0.060758</td>\n",
       "      <td>NaN</td>\n",
       "      <td>NaN</td>\n",
       "      <td>2009</td>\n",
       "    </tr>\n",
       "    <tr>\n",
       "      <th>1</th>\n",
       "      <td>2009-09-10</td>\n",
       "      <td>2009091000</td>\n",
       "      <td>1</td>\n",
       "      <td>1</td>\n",
       "      <td>1.0</td>\n",
       "      <td>14:53</td>\n",
       "      <td>15</td>\n",
       "      <td>3593.0</td>\n",
       "      <td>7.0</td>\n",
       "      <td>PIT</td>\n",
       "      <td>...</td>\n",
       "      <td>1.146076</td>\n",
       "      <td>0.546433</td>\n",
       "      <td>0.453567</td>\n",
       "      <td>0.551088</td>\n",
       "      <td>0.448912</td>\n",
       "      <td>0.546433</td>\n",
       "      <td>0.004655</td>\n",
       "      <td>-0.032244</td>\n",
       "      <td>0.036899</td>\n",
       "      <td>2009</td>\n",
       "    </tr>\n",
       "    <tr>\n",
       "      <th>2</th>\n",
       "      <td>2009-09-10</td>\n",
       "      <td>2009091000</td>\n",
       "      <td>1</td>\n",
       "      <td>1</td>\n",
       "      <td>2.0</td>\n",
       "      <td>14:16</td>\n",
       "      <td>15</td>\n",
       "      <td>3556.0</td>\n",
       "      <td>37.0</td>\n",
       "      <td>PIT</td>\n",
       "      <td>...</td>\n",
       "      <td>NaN</td>\n",
       "      <td>0.551088</td>\n",
       "      <td>0.448912</td>\n",
       "      <td>0.510793</td>\n",
       "      <td>0.489207</td>\n",
       "      <td>0.551088</td>\n",
       "      <td>-0.040295</td>\n",
       "      <td>NaN</td>\n",
       "      <td>NaN</td>\n",
       "      <td>2009</td>\n",
       "    </tr>\n",
       "    <tr>\n",
       "      <th>3</th>\n",
       "      <td>2009-09-10</td>\n",
       "      <td>2009091000</td>\n",
       "      <td>1</td>\n",
       "      <td>1</td>\n",
       "      <td>3.0</td>\n",
       "      <td>13:35</td>\n",
       "      <td>14</td>\n",
       "      <td>3515.0</td>\n",
       "      <td>41.0</td>\n",
       "      <td>PIT</td>\n",
       "      <td>...</td>\n",
       "      <td>-5.031425</td>\n",
       "      <td>0.510793</td>\n",
       "      <td>0.489207</td>\n",
       "      <td>0.461217</td>\n",
       "      <td>0.538783</td>\n",
       "      <td>0.510793</td>\n",
       "      <td>-0.049576</td>\n",
       "      <td>0.106663</td>\n",
       "      <td>-0.156239</td>\n",
       "      <td>2009</td>\n",
       "    </tr>\n",
       "    <tr>\n",
       "      <th>4</th>\n",
       "      <td>2009-09-10</td>\n",
       "      <td>2009091000</td>\n",
       "      <td>1</td>\n",
       "      <td>1</td>\n",
       "      <td>4.0</td>\n",
       "      <td>13:27</td>\n",
       "      <td>14</td>\n",
       "      <td>3507.0</td>\n",
       "      <td>8.0</td>\n",
       "      <td>PIT</td>\n",
       "      <td>...</td>\n",
       "      <td>NaN</td>\n",
       "      <td>0.461217</td>\n",
       "      <td>0.538783</td>\n",
       "      <td>0.558929</td>\n",
       "      <td>0.441071</td>\n",
       "      <td>0.461217</td>\n",
       "      <td>0.097712</td>\n",
       "      <td>NaN</td>\n",
       "      <td>NaN</td>\n",
       "      <td>2009</td>\n",
       "    </tr>\n",
       "  </tbody>\n",
       "</table>\n",
       "<p>5 rows × 102 columns</p>\n",
       "</div>"
      ],
      "text/plain": [
       "         Date      GameID  Drive  qtr  down   time  TimeUnder  TimeSecs  \\\n",
       "0  2009-09-10  2009091000      1    1   NaN  15:00         15    3600.0   \n",
       "1  2009-09-10  2009091000      1    1   1.0  14:53         15    3593.0   \n",
       "2  2009-09-10  2009091000      1    1   2.0  14:16         15    3556.0   \n",
       "3  2009-09-10  2009091000      1    1   3.0  13:35         14    3515.0   \n",
       "4  2009-09-10  2009091000      1    1   4.0  13:27         14    3507.0   \n",
       "\n",
       "   PlayTimeDiff SideofField  ...    yacEPA  Home_WP_pre  Away_WP_pre  \\\n",
       "0           0.0         TEN  ...       NaN     0.485675     0.514325   \n",
       "1           7.0         PIT  ...  1.146076     0.546433     0.453567   \n",
       "2          37.0         PIT  ...       NaN     0.551088     0.448912   \n",
       "3          41.0         PIT  ... -5.031425     0.510793     0.489207   \n",
       "4           8.0         PIT  ...       NaN     0.461217     0.538783   \n",
       "\n",
       "   Home_WP_post  Away_WP_post  Win_Prob       WPA    airWPA    yacWPA  Season  \n",
       "0      0.546433      0.453567  0.485675  0.060758       NaN       NaN    2009  \n",
       "1      0.551088      0.448912  0.546433  0.004655 -0.032244  0.036899    2009  \n",
       "2      0.510793      0.489207  0.551088 -0.040295       NaN       NaN    2009  \n",
       "3      0.461217      0.538783  0.510793 -0.049576  0.106663 -0.156239    2009  \n",
       "4      0.558929      0.441071  0.461217  0.097712       NaN       NaN    2009  \n",
       "\n",
       "[5 rows x 102 columns]"
      ]
     },
     "execution_count": 5,
     "metadata": {},
     "output_type": "execute_result"
    }
   ],
   "source": [
    "NFL.head()"
   ]
  },
  {
   "cell_type": "markdown",
   "id": "fac8592b",
   "metadata": {},
   "source": [
    "#### trimming data from the dataset"
   ]
  },
  {
   "cell_type": "code",
   "execution_count": 6,
   "id": "483f1201",
   "metadata": {},
   "outputs": [
    {
     "data": {
      "text/plain": [
       "16"
      ]
     },
     "execution_count": 6,
     "metadata": {},
     "output_type": "execute_result"
    }
   ],
   "source": [
    "Steelers = NFL[((NFL[\"HomeTeam\"] == 'PIT') | (NFL[\"AwayTeam\"] == 'PIT')) \n",
    "             & (NFL[\"Season\"] == 2016) & (NFL['Touchdown'] == 1)]\n",
    "grouped = Steelers.groupby(by='Date')\n",
    "len(grouped)"
   ]
  },
  {
   "cell_type": "code",
   "execution_count": 8,
   "id": "ecca77ca",
   "metadata": {},
   "outputs": [
    {
     "data": {
      "text/html": [
       "<div>\n",
       "<style scoped>\n",
       "    .dataframe tbody tr th:only-of-type {\n",
       "        vertical-align: middle;\n",
       "    }\n",
       "\n",
       "    .dataframe tbody tr th {\n",
       "        vertical-align: top;\n",
       "    }\n",
       "\n",
       "    .dataframe thead th {\n",
       "        text-align: right;\n",
       "    }\n",
       "</style>\n",
       "<table border=\"1\" class=\"dataframe\">\n",
       "  <thead>\n",
       "    <tr style=\"text-align: right;\">\n",
       "      <th></th>\n",
       "      <th>PlayType</th>\n",
       "      <th>down</th>\n",
       "      <th>Yards.Gained</th>\n",
       "      <th>Date</th>\n",
       "      <th>qtr</th>\n",
       "      <th>desc</th>\n",
       "      <th>scorer</th>\n",
       "      <th>Rusher</th>\n",
       "      <th>Receiver</th>\n",
       "    </tr>\n",
       "  </thead>\n",
       "  <tbody>\n",
       "    <tr>\n",
       "      <th>329328</th>\n",
       "      <td>Pass</td>\n",
       "      <td>3.0</td>\n",
       "      <td>72</td>\n",
       "      <td>2016-10-09</td>\n",
       "      <td>1</td>\n",
       "      <td>(10:25) (Shotgun) B.Roethlisberger pass deep r...</td>\n",
       "      <td>S.Coates</td>\n",
       "      <td>NaN</td>\n",
       "      <td>S.Coates</td>\n",
       "    </tr>\n",
       "    <tr>\n",
       "      <th>332020</th>\n",
       "      <td>Run</td>\n",
       "      <td>1.0</td>\n",
       "      <td>60</td>\n",
       "      <td>2016-10-16</td>\n",
       "      <td>1</td>\n",
       "      <td>(5:52) D.Heyward-Bey left end for 60 yards, TO...</td>\n",
       "      <td>D.Heyward-Bey</td>\n",
       "      <td>D.Heyward-Bey</td>\n",
       "      <td>NaN</td>\n",
       "    </tr>\n",
       "    <tr>\n",
       "      <th>327736</th>\n",
       "      <td>Pass</td>\n",
       "      <td>2.0</td>\n",
       "      <td>38</td>\n",
       "      <td>2016-10-02</td>\n",
       "      <td>1</td>\n",
       "      <td>(1:28) B.Roethlisberger pass deep middle to A....</td>\n",
       "      <td>A.Brown</td>\n",
       "      <td>NaN</td>\n",
       "      <td>A.Brown</td>\n",
       "    </tr>\n",
       "    <tr>\n",
       "      <th>346084</th>\n",
       "      <td>Pass</td>\n",
       "      <td>2.0</td>\n",
       "      <td>33</td>\n",
       "      <td>2016-11-24</td>\n",
       "      <td>2</td>\n",
       "      <td>(9:08) (Pass formation) B.Roethlisberger pass ...</td>\n",
       "      <td>A.Brown</td>\n",
       "      <td>NaN</td>\n",
       "      <td>A.Brown</td>\n",
       "    </tr>\n",
       "    <tr>\n",
       "      <th>327717</th>\n",
       "      <td>Pass</td>\n",
       "      <td>3.0</td>\n",
       "      <td>31</td>\n",
       "      <td>2016-10-02</td>\n",
       "      <td>1</td>\n",
       "      <td>(7:34) (Shotgun) B.Roethlisberger pass deep le...</td>\n",
       "      <td>D.Heyward-Bey</td>\n",
       "      <td>NaN</td>\n",
       "      <td>D.Heyward-Bey</td>\n",
       "    </tr>\n",
       "  </tbody>\n",
       "</table>\n",
       "</div>"
      ],
      "text/plain": [
       "       PlayType  down  Yards.Gained        Date  qtr  \\\n",
       "329328     Pass   3.0            72  2016-10-09    1   \n",
       "332020      Run   1.0            60  2016-10-16    1   \n",
       "327736     Pass   2.0            38  2016-10-02    1   \n",
       "346084     Pass   2.0            33  2016-11-24    2   \n",
       "327717     Pass   3.0            31  2016-10-02    1   \n",
       "\n",
       "                                                     desc         scorer  \\\n",
       "329328  (10:25) (Shotgun) B.Roethlisberger pass deep r...       S.Coates   \n",
       "332020  (5:52) D.Heyward-Bey left end for 60 yards, TO...  D.Heyward-Bey   \n",
       "327736  (1:28) B.Roethlisberger pass deep middle to A....        A.Brown   \n",
       "346084  (9:08) (Pass formation) B.Roethlisberger pass ...        A.Brown   \n",
       "327717  (7:34) (Shotgun) B.Roethlisberger pass deep le...  D.Heyward-Bey   \n",
       "\n",
       "               Rusher       Receiver  \n",
       "329328            NaN       S.Coates  \n",
       "332020  D.Heyward-Bey            NaN  \n",
       "327736            NaN        A.Brown  \n",
       "346084            NaN        A.Brown  \n",
       "327717            NaN  D.Heyward-Bey  "
      ]
     },
     "execution_count": 8,
     "metadata": {},
     "output_type": "execute_result"
    }
   ],
   "source": [
    "offense = Steelers[(Steelers[\"DefensiveTeam\"] != 'PIT')]\n",
    "\n",
    "Top_Plays = offense.sort_values(by='Yards.Gained',ascending=False)[:48]\n",
    "\n",
    "Top_Plays['scorer'] = Top_Plays[\"Rusher\"]\n",
    "Top_Plays['scorer'].fillna(Top_Plays['Receiver'], inplace = True)\n",
    "\n",
    "Touchdowns = Top_Plays[['PlayType',\n",
    "          'down',\n",
    "          'Yards.Gained',\n",
    "          'Date',\n",
    "          'qtr',\n",
    "          'desc',\n",
    "          'scorer',\n",
    "          'Rusher',\n",
    "          'Receiver']]\n",
    "Touchdowns.head()"
   ]
  },
  {
   "cell_type": "code",
   "execution_count": 9,
   "id": "fa507455",
   "metadata": {},
   "outputs": [
    {
     "data": {
      "text/plain": [
       "(48, 9)"
      ]
     },
     "execution_count": 9,
     "metadata": {},
     "output_type": "execute_result"
    }
   ],
   "source": [
    "Touchdowns.shape"
   ]
  },
  {
   "cell_type": "code",
   "execution_count": 10,
   "id": "d6b10a9b",
   "metadata": {},
   "outputs": [
    {
     "data": {
      "text/plain": [
       "PlayType         object\n",
       "down            float64\n",
       "Yards.Gained      int64\n",
       "Date             object\n",
       "qtr               int64\n",
       "desc             object\n",
       "scorer           object\n",
       "Rusher           object\n",
       "Receiver         object\n",
       "dtype: object"
      ]
     },
     "execution_count": 10,
     "metadata": {},
     "output_type": "execute_result"
    }
   ],
   "source": [
    "Touchdowns.dtypes"
   ]
  },
  {
   "cell_type": "code",
   "execution_count": 11,
   "id": "6731e4d2",
   "metadata": {},
   "outputs": [
    {
     "data": {
      "text/html": [
       "<div>\n",
       "<style scoped>\n",
       "    .dataframe tbody tr th:only-of-type {\n",
       "        vertical-align: middle;\n",
       "    }\n",
       "\n",
       "    .dataframe tbody tr th {\n",
       "        vertical-align: top;\n",
       "    }\n",
       "\n",
       "    .dataframe thead th {\n",
       "        text-align: right;\n",
       "    }\n",
       "</style>\n",
       "<table border=\"1\" class=\"dataframe\">\n",
       "  <thead>\n",
       "    <tr style=\"text-align: right;\">\n",
       "      <th></th>\n",
       "      <th>down</th>\n",
       "      <th>Yards.Gained</th>\n",
       "      <th>qtr</th>\n",
       "    </tr>\n",
       "  </thead>\n",
       "  <tbody>\n",
       "    <tr>\n",
       "      <th>count</th>\n",
       "      <td>48.000000</td>\n",
       "      <td>48.000000</td>\n",
       "      <td>48.000000</td>\n",
       "    </tr>\n",
       "    <tr>\n",
       "      <th>mean</th>\n",
       "      <td>2.145833</td>\n",
       "      <td>15.041667</td>\n",
       "      <td>2.729167</td>\n",
       "    </tr>\n",
       "    <tr>\n",
       "      <th>std</th>\n",
       "      <td>0.922291</td>\n",
       "      <td>14.996394</td>\n",
       "      <td>1.283936</td>\n",
       "    </tr>\n",
       "    <tr>\n",
       "      <th>min</th>\n",
       "      <td>1.000000</td>\n",
       "      <td>0.000000</td>\n",
       "      <td>1.000000</td>\n",
       "    </tr>\n",
       "    <tr>\n",
       "      <th>25%</th>\n",
       "      <td>1.000000</td>\n",
       "      <td>4.000000</td>\n",
       "      <td>1.750000</td>\n",
       "    </tr>\n",
       "    <tr>\n",
       "      <th>50%</th>\n",
       "      <td>2.000000</td>\n",
       "      <td>10.000000</td>\n",
       "      <td>3.000000</td>\n",
       "    </tr>\n",
       "    <tr>\n",
       "      <th>75%</th>\n",
       "      <td>3.000000</td>\n",
       "      <td>23.000000</td>\n",
       "      <td>4.000000</td>\n",
       "    </tr>\n",
       "    <tr>\n",
       "      <th>max</th>\n",
       "      <td>4.000000</td>\n",
       "      <td>72.000000</td>\n",
       "      <td>5.000000</td>\n",
       "    </tr>\n",
       "  </tbody>\n",
       "</table>\n",
       "</div>"
      ],
      "text/plain": [
       "            down  Yards.Gained        qtr\n",
       "count  48.000000     48.000000  48.000000\n",
       "mean    2.145833     15.041667   2.729167\n",
       "std     0.922291     14.996394   1.283936\n",
       "min     1.000000      0.000000   1.000000\n",
       "25%     1.000000      4.000000   1.750000\n",
       "50%     2.000000     10.000000   3.000000\n",
       "75%     3.000000     23.000000   4.000000\n",
       "max     4.000000     72.000000   5.000000"
      ]
     },
     "execution_count": 11,
     "metadata": {},
     "output_type": "execute_result"
    }
   ],
   "source": [
    "Touchdowns.describe()"
   ]
  },
  {
   "cell_type": "code",
   "execution_count": 12,
   "id": "f21df644",
   "metadata": {},
   "outputs": [
    {
     "data": {
      "text/html": [
       "<div>\n",
       "<style scoped>\n",
       "    .dataframe tbody tr th:only-of-type {\n",
       "        vertical-align: middle;\n",
       "    }\n",
       "\n",
       "    .dataframe tbody tr th {\n",
       "        vertical-align: top;\n",
       "    }\n",
       "\n",
       "    .dataframe thead th {\n",
       "        text-align: right;\n",
       "    }\n",
       "</style>\n",
       "<table border=\"1\" class=\"dataframe\">\n",
       "  <thead>\n",
       "    <tr style=\"text-align: right;\">\n",
       "      <th></th>\n",
       "      <th>down</th>\n",
       "      <th>Yards.Gained</th>\n",
       "      <th>qtr</th>\n",
       "    </tr>\n",
       "    <tr>\n",
       "      <th>scorer</th>\n",
       "      <th></th>\n",
       "      <th></th>\n",
       "      <th></th>\n",
       "    </tr>\n",
       "  </thead>\n",
       "  <tbody>\n",
       "    <tr>\n",
       "      <th>A.Brown</th>\n",
       "      <td>2.416667</td>\n",
       "      <td>20.500000</td>\n",
       "      <td>2.666667</td>\n",
       "    </tr>\n",
       "    <tr>\n",
       "      <th>B.Roethlisberger</th>\n",
       "      <td>1.000000</td>\n",
       "      <td>4.000000</td>\n",
       "      <td>4.000000</td>\n",
       "    </tr>\n",
       "    <tr>\n",
       "      <th>C.Hamilton</th>\n",
       "      <td>1.500000</td>\n",
       "      <td>24.500000</td>\n",
       "      <td>4.500000</td>\n",
       "    </tr>\n",
       "    <tr>\n",
       "      <th>D.Ayers</th>\n",
       "      <td>3.000000</td>\n",
       "      <td>11.000000</td>\n",
       "      <td>4.000000</td>\n",
       "    </tr>\n",
       "    <tr>\n",
       "      <th>D.Heyward-Bey</th>\n",
       "      <td>2.333333</td>\n",
       "      <td>35.000000</td>\n",
       "      <td>1.333333</td>\n",
       "    </tr>\n",
       "    <tr>\n",
       "      <th>D.Williams</th>\n",
       "      <td>1.833333</td>\n",
       "      <td>6.500000</td>\n",
       "      <td>3.666667</td>\n",
       "    </tr>\n",
       "    <tr>\n",
       "      <th>E.Rogers</th>\n",
       "      <td>2.000000</td>\n",
       "      <td>10.000000</td>\n",
       "      <td>2.333333</td>\n",
       "    </tr>\n",
       "    <tr>\n",
       "      <th>J.James</th>\n",
       "      <td>1.666667</td>\n",
       "      <td>6.333333</td>\n",
       "      <td>2.333333</td>\n",
       "    </tr>\n",
       "    <tr>\n",
       "      <th>L.Bell</th>\n",
       "      <td>1.777778</td>\n",
       "      <td>4.222222</td>\n",
       "      <td>2.444444</td>\n",
       "    </tr>\n",
       "    <tr>\n",
       "      <th>L.Green</th>\n",
       "      <td>3.000000</td>\n",
       "      <td>20.000000</td>\n",
       "      <td>3.000000</td>\n",
       "    </tr>\n",
       "    <tr>\n",
       "      <th>M.Wheaton</th>\n",
       "      <td>3.000000</td>\n",
       "      <td>30.000000</td>\n",
       "      <td>3.000000</td>\n",
       "    </tr>\n",
       "    <tr>\n",
       "      <th>S.Coates</th>\n",
       "      <td>3.000000</td>\n",
       "      <td>38.500000</td>\n",
       "      <td>2.500000</td>\n",
       "    </tr>\n",
       "    <tr>\n",
       "      <th>X.Grimble</th>\n",
       "      <td>1.500000</td>\n",
       "      <td>20.000000</td>\n",
       "      <td>1.000000</td>\n",
       "    </tr>\n",
       "  </tbody>\n",
       "</table>\n",
       "</div>"
      ],
      "text/plain": [
       "                      down  Yards.Gained       qtr\n",
       "scorer                                            \n",
       "A.Brown           2.416667     20.500000  2.666667\n",
       "B.Roethlisberger  1.000000      4.000000  4.000000\n",
       "C.Hamilton        1.500000     24.500000  4.500000\n",
       "D.Ayers           3.000000     11.000000  4.000000\n",
       "D.Heyward-Bey     2.333333     35.000000  1.333333\n",
       "D.Williams        1.833333      6.500000  3.666667\n",
       "E.Rogers          2.000000     10.000000  2.333333\n",
       "J.James           1.666667      6.333333  2.333333\n",
       "L.Bell            1.777778      4.222222  2.444444\n",
       "L.Green           3.000000     20.000000  3.000000\n",
       "M.Wheaton         3.000000     30.000000  3.000000\n",
       "S.Coates          3.000000     38.500000  2.500000\n",
       "X.Grimble         1.500000     20.000000  1.000000"
      ]
     },
     "execution_count": 12,
     "metadata": {},
     "output_type": "execute_result"
    }
   ],
   "source": [
    "Player = Touchdowns.groupby('scorer')\n",
    "Player.mean()"
   ]
  },
  {
   "cell_type": "markdown",
   "id": "34a931d6",
   "metadata": {},
   "source": [
    "# Exploratory Data Analysis"
   ]
  },
  {
   "cell_type": "markdown",
   "id": "2a75c94f",
   "metadata": {},
   "source": [
    "#### results in a graph count vs scorer"
   ]
  },
  {
   "cell_type": "code",
   "execution_count": 13,
   "id": "eead6bd8",
   "metadata": {},
   "outputs": [
    {
     "name": "stderr",
     "output_type": "stream",
     "text": [
      "C:\\Users\\sowri\\anaconda3\\lib\\site-packages\\seaborn\\_decorators.py:36: FutureWarning: Pass the following variable as a keyword arg: x. From version 0.12, the only valid positional argument will be `data`, and passing other arguments without an explicit keyword will result in an error or misinterpretation.\n",
      "  warnings.warn(\n"
     ]
    },
    {
     "data": {
      "image/png": "[encoded data removed]",
      "text/plain": [
       "<Figure size 432x288 with 1 Axes>"
      ]
     },
     "metadata": {
      "needs_background": "light"
     },
     "output_type": "display_data"
    }
   ],
   "source": [
    "x = sns.countplot(Top_Plays['scorer'])\n",
    "plt.setp(x.get_xticklabels(), rotation=45)\n",
    "plt.tight_layout()\n",
    "plt.show()"
   ]
  },
  {
   "cell_type": "markdown",
   "id": "e7fb4b3b",
   "metadata": {},
   "source": [
    "#### the below code gives us a graph between count vs playType"
   ]
  },
  {
   "cell_type": "code",
   "execution_count": 14,
   "id": "be8114a3",
   "metadata": {},
   "outputs": [
    {
     "data": {
      "text/plain": [
       "<AxesSubplot:xlabel='PlayType', ylabel='count'>"
      ]
     },
     "execution_count": 14,
     "metadata": {},
     "output_type": "execute_result"
    },
    {
     "data": {
      "image/png": "[encoded data removed]",
      "text/plain": [
       "<Figure size 432x288 with 1 Axes>"
      ]
     },
     "metadata": {
      "needs_background": "light"
     },
     "output_type": "display_data"
    }
   ],
   "source": [
    "sns.countplot(x=\"PlayType\", data=Top_Plays)"
   ]
  },
  {
   "cell_type": "markdown",
   "id": "ac895f44",
   "metadata": {},
   "source": [
    "#### Count vs Rusher"
   ]
  },
  {
   "cell_type": "code",
   "execution_count": 16,
   "id": "e05f0492",
   "metadata": {},
   "outputs": [
    {
     "data": {
      "text/plain": [
       "<AxesSubplot:xlabel='Rusher', ylabel='count'>"
      ]
     },
     "execution_count": 16,
     "metadata": {},
     "output_type": "execute_result"
    },
    {
     "data": {
      "image/png": "[encoded data removed]",
      "text/plain": [
       "<Figure size 432x288 with 1 Axes>"
      ]
     },
     "metadata": {
      "needs_background": "light"
     },
     "output_type": "display_data"
    }
   ],
   "source": [
    "runs = offense[(offense[\"PlayType\"] == 'Run')]\n",
    "sns.countplot(x=\"Rusher\",data=runs)"
   ]
  },
  {
   "cell_type": "markdown",
   "id": "c1a3bbc8",
   "metadata": {},
   "source": [
    "# Train and test split\n",
    "\n",
    "### Using train_test_split, we can easily segment our dataset into training data and testing data. Using these values we can easily build our models and measure the model accuracy."
   ]
  },
  {
   "cell_type": "code",
   "execution_count": 23,
   "id": "997b6362",
   "metadata": {},
   "outputs": [],
   "source": [
    "NFL['ScoreDiff'] = NFL['PosTeamScore'] - NFL['DefTeamScore']\n",
    "\n",
    "NFL['CurrentScoreBool'] = NFL.apply(lambda x: 1 if x.ScoreDiff > 0 else 0, axis=1)\n",
    "\n",
    "NFL['TwoMinuteDrill'] = NFL.apply(lambda x: 1 if (\n",
    "    (((x.TimeSecs <= 0)&(x.TimeSecs >= 120))|((x.TimeSecs <= 1920)&(x.TimeSecs >= 1800)))&\n",
    "    (x.CurrentScoreBool == 0)) else 0, axis=1)"
   ]
  },
  {
   "cell_type": "code",
   "execution_count": 25,
   "id": "829a6db0",
   "metadata": {},
   "outputs": [],
   "source": [
    "plays_predictors = ['ydstogo','down','ScoreDiff','No_Score_Prob','Drive','Season','TimeSecs','TimeUnder','PlayTimeDiff','Opp_Field_Goal_Prob']\n",
    "X = NFL[plays_predictors]\n",
    "y = NFL.PlayType"
   ]
  },
  {
   "cell_type": "code",
   "execution_count": 28,
   "id": "b5f393c3",
   "metadata": {},
   "outputs": [],
   "source": [
    "train_X, val_X, train_y, val_y = train_test_split(X, y,random_state = 0)"
   ]
  },
  {
   "cell_type": "code",
   "execution_count": 34,
   "id": "a519f529",
   "metadata": {},
   "outputs": [
    {
     "data": {
      "text/html": [
       "<div>\n",
       "<style scoped>\n",
       "    .dataframe tbody tr th:only-of-type {\n",
       "        vertical-align: middle;\n",
       "    }\n",
       "\n",
       "    .dataframe tbody tr th {\n",
       "        vertical-align: top;\n",
       "    }\n",
       "\n",
       "    .dataframe thead th {\n",
       "        text-align: right;\n",
       "    }\n",
       "</style>\n",
       "<table border=\"1\" class=\"dataframe\">\n",
       "  <thead>\n",
       "    <tr style=\"text-align: right;\">\n",
       "      <th></th>\n",
       "      <th>ydstogo</th>\n",
       "      <th>down</th>\n",
       "      <th>ScoreDiff</th>\n",
       "      <th>No_Score_Prob</th>\n",
       "      <th>Drive</th>\n",
       "      <th>Season</th>\n",
       "      <th>TimeSecs</th>\n",
       "      <th>TimeUnder</th>\n",
       "      <th>PlayTimeDiff</th>\n",
       "      <th>Opp_Field_Goal_Prob</th>\n",
       "    </tr>\n",
       "  </thead>\n",
       "  <tbody>\n",
       "    <tr>\n",
       "      <th>77272</th>\n",
       "      <td>0</td>\n",
       "      <td>NaN</td>\n",
       "      <td>NaN</td>\n",
       "      <td>0.000000</td>\n",
       "      <td>10</td>\n",
       "      <td>2010</td>\n",
       "      <td>1849.0</td>\n",
       "      <td>1</td>\n",
       "      <td>0.0</td>\n",
       "      <td>0.000000</td>\n",
       "    </tr>\n",
       "    <tr>\n",
       "      <th>149007</th>\n",
       "      <td>0</td>\n",
       "      <td>NaN</td>\n",
       "      <td>3.0</td>\n",
       "      <td>0.143831</td>\n",
       "      <td>21</td>\n",
       "      <td>2012</td>\n",
       "      <td>630.0</td>\n",
       "      <td>11</td>\n",
       "      <td>0.0</td>\n",
       "      <td>0.148222</td>\n",
       "    </tr>\n",
       "    <tr>\n",
       "      <th>45035</th>\n",
       "      <td>10</td>\n",
       "      <td>1.0</td>\n",
       "      <td>0.0</td>\n",
       "      <td>0.012761</td>\n",
       "      <td>15</td>\n",
       "      <td>2010</td>\n",
       "      <td>1212.0</td>\n",
       "      <td>6</td>\n",
       "      <td>44.0</td>\n",
       "      <td>0.137387</td>\n",
       "    </tr>\n",
       "    <tr>\n",
       "      <th>63786</th>\n",
       "      <td>12</td>\n",
       "      <td>3.0</td>\n",
       "      <td>3.0</td>\n",
       "      <td>0.208237</td>\n",
       "      <td>9</td>\n",
       "      <td>2010</td>\n",
       "      <td>2144.0</td>\n",
       "      <td>6</td>\n",
       "      <td>43.0</td>\n",
       "      <td>0.080257</td>\n",
       "    </tr>\n",
       "    <tr>\n",
       "      <th>91543</th>\n",
       "      <td>2</td>\n",
       "      <td>2.0</td>\n",
       "      <td>-6.0</td>\n",
       "      <td>0.003951</td>\n",
       "      <td>16</td>\n",
       "      <td>2011</td>\n",
       "      <td>1346.0</td>\n",
       "      <td>8</td>\n",
       "      <td>30.0</td>\n",
       "      <td>0.066307</td>\n",
       "    </tr>\n",
       "  </tbody>\n",
       "</table>\n",
       "</div>"
      ],
      "text/plain": [
       "        ydstogo  down  ScoreDiff  No_Score_Prob  Drive  Season  TimeSecs  \\\n",
       "77272         0   NaN        NaN       0.000000     10    2010    1849.0   \n",
       "149007        0   NaN        3.0       0.143831     21    2012     630.0   \n",
       "45035        10   1.0        0.0       0.012761     15    2010    1212.0   \n",
       "63786        12   3.0        3.0       0.208237      9    2010    2144.0   \n",
       "91543         2   2.0       -6.0       0.003951     16    2011    1346.0   \n",
       "\n",
       "        TimeUnder  PlayTimeDiff  Opp_Field_Goal_Prob  \n",
       "77272           1           0.0             0.000000  \n",
       "149007         11           0.0             0.148222  \n",
       "45035           6          44.0             0.137387  \n",
       "63786           6          43.0             0.080257  \n",
       "91543           8          30.0             0.066307  "
      ]
     },
     "execution_count": 34,
     "metadata": {},
     "output_type": "execute_result"
    }
   ],
   "source": [
    "train_X.head()"
   ]
  },
  {
   "cell_type": "code",
   "execution_count": 31,
   "id": "160db149",
   "metadata": {},
   "outputs": [
    {
     "data": {
      "text/html": [
       "<div>\n",
       "<style scoped>\n",
       "    .dataframe tbody tr th:only-of-type {\n",
       "        vertical-align: middle;\n",
       "    }\n",
       "\n",
       "    .dataframe tbody tr th {\n",
       "        vertical-align: top;\n",
       "    }\n",
       "\n",
       "    .dataframe thead th {\n",
       "        text-align: right;\n",
       "    }\n",
       "</style>\n",
       "<table border=\"1\" class=\"dataframe\">\n",
       "  <thead>\n",
       "    <tr style=\"text-align: right;\">\n",
       "      <th></th>\n",
       "      <th>ydstogo</th>\n",
       "      <th>down</th>\n",
       "      <th>ScoreDiff</th>\n",
       "      <th>No_Score_Prob</th>\n",
       "      <th>Drive</th>\n",
       "      <th>Season</th>\n",
       "      <th>TimeSecs</th>\n",
       "      <th>TimeUnder</th>\n",
       "      <th>PlayTimeDiff</th>\n",
       "      <th>Opp_Field_Goal_Prob</th>\n",
       "    </tr>\n",
       "  </thead>\n",
       "  <tbody>\n",
       "    <tr>\n",
       "      <th>1983</th>\n",
       "      <td>0</td>\n",
       "      <td>NaN</td>\n",
       "      <td>-14.0</td>\n",
       "      <td>0.748181</td>\n",
       "      <td>13</td>\n",
       "      <td>2009</td>\n",
       "      <td>1812.0</td>\n",
       "      <td>1</td>\n",
       "      <td>0.0</td>\n",
       "      <td>0.040584</td>\n",
       "    </tr>\n",
       "    <tr>\n",
       "      <th>190399</th>\n",
       "      <td>8</td>\n",
       "      <td>2.0</td>\n",
       "      <td>4.0</td>\n",
       "      <td>0.002283</td>\n",
       "      <td>15</td>\n",
       "      <td>2013</td>\n",
       "      <td>1612.0</td>\n",
       "      <td>12</td>\n",
       "      <td>35.0</td>\n",
       "      <td>0.134850</td>\n",
       "    </tr>\n",
       "    <tr>\n",
       "      <th>135490</th>\n",
       "      <td>0</td>\n",
       "      <td>NaN</td>\n",
       "      <td>0.0</td>\n",
       "      <td>0.001506</td>\n",
       "      <td>1</td>\n",
       "      <td>2012</td>\n",
       "      <td>3600.0</td>\n",
       "      <td>15</td>\n",
       "      <td>0.0</td>\n",
       "      <td>0.179749</td>\n",
       "    </tr>\n",
       "    <tr>\n",
       "      <th>60161</th>\n",
       "      <td>1</td>\n",
       "      <td>3.0</td>\n",
       "      <td>7.0</td>\n",
       "      <td>0.006194</td>\n",
       "      <td>3</td>\n",
       "      <td>2010</td>\n",
       "      <td>3248.0</td>\n",
       "      <td>10</td>\n",
       "      <td>40.0</td>\n",
       "      <td>0.205617</td>\n",
       "    </tr>\n",
       "    <tr>\n",
       "      <th>177931</th>\n",
       "      <td>10</td>\n",
       "      <td>1.0</td>\n",
       "      <td>-9.0</td>\n",
       "      <td>0.158707</td>\n",
       "      <td>24</td>\n",
       "      <td>2012</td>\n",
       "      <td>539.0</td>\n",
       "      <td>9</td>\n",
       "      <td>42.0</td>\n",
       "      <td>0.110898</td>\n",
       "    </tr>\n",
       "  </tbody>\n",
       "</table>\n",
       "</div>"
      ],
      "text/plain": [
       "        ydstogo  down  ScoreDiff  No_Score_Prob  Drive  Season  TimeSecs  \\\n",
       "1983          0   NaN      -14.0       0.748181     13    2009    1812.0   \n",
       "190399        8   2.0        4.0       0.002283     15    2013    1612.0   \n",
       "135490        0   NaN        0.0       0.001506      1    2012    3600.0   \n",
       "60161         1   3.0        7.0       0.006194      3    2010    3248.0   \n",
       "177931       10   1.0       -9.0       0.158707     24    2012     539.0   \n",
       "\n",
       "        TimeUnder  PlayTimeDiff  Opp_Field_Goal_Prob  \n",
       "1983            1           0.0             0.040584  \n",
       "190399         12          35.0             0.134850  \n",
       "135490         15           0.0             0.179749  \n",
       "60161          10          40.0             0.205617  \n",
       "177931          9          42.0             0.110898  "
      ]
     },
     "execution_count": 31,
     "metadata": {},
     "output_type": "execute_result"
    }
   ],
   "source": [
    "val_X.head()"
   ]
  },
  {
   "cell_type": "code",
   "execution_count": 32,
   "id": "e2878660",
   "metadata": {},
   "outputs": [
    {
     "data": {
      "text/plain": [
       "77272     Timeout\n",
       "149007    Kickoff\n",
       "45035        Pass\n",
       "63786     No Play\n",
       "91543        Pass\n",
       "Name: PlayType, dtype: object"
      ]
     },
     "execution_count": 32,
     "metadata": {},
     "output_type": "execute_result"
    }
   ],
   "source": [
    "train_y.head()"
   ]
  },
  {
   "cell_type": "code",
   "execution_count": 33,
   "id": "b2dd60e3",
   "metadata": {},
   "outputs": [
    {
     "data": {
      "text/plain": [
       "1983      Kickoff\n",
       "190399        Run\n",
       "135490    Kickoff\n",
       "60161         Run\n",
       "177931       Pass\n",
       "Name: PlayType, dtype: object"
      ]
     },
     "execution_count": 33,
     "metadata": {},
     "output_type": "execute_result"
    }
   ],
   "source": [
    "val_y.head()"
   ]
  },
  {
   "cell_type": "code",
   "execution_count": null,
   "id": "19bc20a5",
   "metadata": {},
   "outputs": [],
   "source": []
  }
 ],
 "metadata": {
  "kernelspec": {
   "display_name": "Python 3",
   "language": "python",
   "name": "python3"
  },
  "language_info": {
   "codemirror_mode": {
    "name": "ipython",
    "version": 3
   },
   "file_extension": ".py",
   "mimetype": "text/x-python",
   "name": "python",
   "nbconvert_exporter": "python",
   "pygments_lexer": "ipython3",
   "version": "3.8.8"
  }
 },
 "nbformat": 4,
 "nbformat_minor": 5
}
